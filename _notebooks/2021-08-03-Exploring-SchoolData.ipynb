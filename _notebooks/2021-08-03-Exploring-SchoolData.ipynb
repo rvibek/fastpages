{
 "cells": [
  {
   "cell_type": "markdown",
   "source": [
    "# Exploring School\n",
    "\n",
    "> Exploring school dataset with siuba, plotnine and geopandas \n",
    "\n",
    "- toc: false \n",
    "- show_description: true\n",
    "- badges: true\n",
    "- comments: true\n",
    "- author: Vibek Raj Maurya\n",
    "- show_image: https://res.cloudinary.com/rvibek-com-np/image/upload/v1627976294/vjzaqwfhwa7ytrpebcyi.png\n",
    "- categories: [fastpages, jupyter, siuba, plotnine, geopandas]"
   ],
   "metadata": {}
  },
  {
   "cell_type": "code",
   "execution_count": null,
   "source": [],
   "outputs": [],
   "metadata": {}
  },
  {
   "cell_type": "code",
   "execution_count": 1,
   "source": [
    "import pandas as pd\n",
    "from plotnine import *\n",
    "\n",
    "from siuba import *\n",
    "\n",
    "import geopandas as gpd\n"
   ],
   "outputs": [],
   "metadata": {}
  },
  {
   "cell_type": "code",
   "execution_count": 2,
   "source": [
    "#collapse-show\n",
    "schools = pd.read_csv('https://gist.githubusercontent.com/rvibek/11d79460fb03b3d8829275d924b832e4/raw/f643e93b3d3f46facab2140ab035d351411d26b4/gistfile0.txt')\n",
    "schools.head()"
   ],
   "outputs": [
    {
     "output_type": "execute_result",
     "data": {
      "text/plain": [
       "        ID                           SchoolName  Male_EGY  Female_EGY  \\\n",
       "0  1017308  ف رياض الاطفال بمدرسةشبرا القديمة ب        42          51   \n",
       "1  1022697                    ثمرة الاخلاص بنون        91           0   \n",
       "2  1031379                          السيدة رقية       244         245   \n",
       "3  1031294                              الاشراف       186         167   \n",
       "4  1033455                        فاطمة النبوية       421         350   \n",
       "\n",
       "   Total_EGY  Male_Syrian  Female_Syrian  Total_Syrian        Lat        Lng  \n",
       "0         93            1              0             1  30.035539  31.271526  \n",
       "1         91            2              0             2  30.077346  31.232600  \n",
       "2        489            1              2             3  30.104255  31.245600  \n",
       "3        353            2              1             3  30.100513  31.250606  \n",
       "4        771            1              0             1  30.090416  31.246074  "
      ],
      "text/html": [
       "<div>\n",
       "<style scoped>\n",
       "    .dataframe tbody tr th:only-of-type {\n",
       "        vertical-align: middle;\n",
       "    }\n",
       "\n",
       "    .dataframe tbody tr th {\n",
       "        vertical-align: top;\n",
       "    }\n",
       "\n",
       "    .dataframe thead th {\n",
       "        text-align: right;\n",
       "    }\n",
       "</style>\n",
       "<table border=\"1\" class=\"dataframe\">\n",
       "  <thead>\n",
       "    <tr style=\"text-align: right;\">\n",
       "      <th></th>\n",
       "      <th>ID</th>\n",
       "      <th>SchoolName</th>\n",
       "      <th>Male_EGY</th>\n",
       "      <th>Female_EGY</th>\n",
       "      <th>Total_EGY</th>\n",
       "      <th>Male_Syrian</th>\n",
       "      <th>Female_Syrian</th>\n",
       "      <th>Total_Syrian</th>\n",
       "      <th>Lat</th>\n",
       "      <th>Lng</th>\n",
       "    </tr>\n",
       "  </thead>\n",
       "  <tbody>\n",
       "    <tr>\n",
       "      <th>0</th>\n",
       "      <td>1017308</td>\n",
       "      <td>ف رياض الاطفال بمدرسةشبرا القديمة ب</td>\n",
       "      <td>42</td>\n",
       "      <td>51</td>\n",
       "      <td>93</td>\n",
       "      <td>1</td>\n",
       "      <td>0</td>\n",
       "      <td>1</td>\n",
       "      <td>30.035539</td>\n",
       "      <td>31.271526</td>\n",
       "    </tr>\n",
       "    <tr>\n",
       "      <th>1</th>\n",
       "      <td>1022697</td>\n",
       "      <td>ثمرة الاخلاص بنون</td>\n",
       "      <td>91</td>\n",
       "      <td>0</td>\n",
       "      <td>91</td>\n",
       "      <td>2</td>\n",
       "      <td>0</td>\n",
       "      <td>2</td>\n",
       "      <td>30.077346</td>\n",
       "      <td>31.232600</td>\n",
       "    </tr>\n",
       "    <tr>\n",
       "      <th>2</th>\n",
       "      <td>1031379</td>\n",
       "      <td>السيدة رقية</td>\n",
       "      <td>244</td>\n",
       "      <td>245</td>\n",
       "      <td>489</td>\n",
       "      <td>1</td>\n",
       "      <td>2</td>\n",
       "      <td>3</td>\n",
       "      <td>30.104255</td>\n",
       "      <td>31.245600</td>\n",
       "    </tr>\n",
       "    <tr>\n",
       "      <th>3</th>\n",
       "      <td>1031294</td>\n",
       "      <td>الاشراف</td>\n",
       "      <td>186</td>\n",
       "      <td>167</td>\n",
       "      <td>353</td>\n",
       "      <td>2</td>\n",
       "      <td>1</td>\n",
       "      <td>3</td>\n",
       "      <td>30.100513</td>\n",
       "      <td>31.250606</td>\n",
       "    </tr>\n",
       "    <tr>\n",
       "      <th>4</th>\n",
       "      <td>1033455</td>\n",
       "      <td>فاطمة النبوية</td>\n",
       "      <td>421</td>\n",
       "      <td>350</td>\n",
       "      <td>771</td>\n",
       "      <td>1</td>\n",
       "      <td>0</td>\n",
       "      <td>1</td>\n",
       "      <td>30.090416</td>\n",
       "      <td>31.246074</td>\n",
       "    </tr>\n",
       "  </tbody>\n",
       "</table>\n",
       "</div>"
      ]
     },
     "metadata": {},
     "execution_count": 2
    }
   ],
   "metadata": {}
  },
  {
   "cell_type": "code",
   "execution_count": 3,
   "source": [
    "schools.Total_Syrian.sum()/schools.Total_EGY.sum()"
   ],
   "outputs": [
    {
     "output_type": "execute_result",
     "data": {
      "text/plain": [
       "0.011432301692248464"
      ]
     },
     "metadata": {},
     "execution_count": 3
    }
   ],
   "metadata": {}
  },
  {
   "cell_type": "markdown",
   "source": [
    "## Background\n",
    "\n",
    "In ~500 schools in Egypt, 1.14% of the total students are Syrians. According to datasets, in 491 schools there are schools.Total_EGY.sum() Egyptian students and  schools.Total_Syrian.sum() Syrian students.\n",
    "\n",
    "The following notebook shows the distribution of the schools and  the students."
   ],
   "metadata": {}
  },
  {
   "cell_type": "code",
   "execution_count": 4,
   "source": [
    "#collapse-hide\n",
    "print(f'In ~500 schools in Egypt, 1.14% of the total students are Syrians. According to datasets, in 491 shools there are {schools.Total_EGY.sum()} Egyptian students and {schools.Total_Syrian.sum()} Syrian students.\\n\\nThe following notebook shows the distribution of the schools and the students.')"
   ],
   "outputs": [
    {
     "output_type": "stream",
     "name": "stdout",
     "text": [
      "In ~500 schools in Egypt, 1.14% of the total students are Syrians. According to datasets, in 491 shools there are 477944 Egyptian students and 5464 Syrian students.\n",
      "\n",
      "The following notebook shows the distribution of the schools and the students.\n"
     ]
    }
   ],
   "metadata": {}
  },
  {
   "cell_type": "code",
   "execution_count": 5,
   "source": [
    "schools_reshp = (\n",
    "schools \n",
    "    >> select(_.SchoolName, _.Lat, _.Lng, _.Total_EGY, _.Total_Syrian)\n",
    "    >> gather('measure', 'value', -_.Lng, -_.Lat,  -_.SchoolName)\n",
    ")\n",
    "schools_reshp.sort_values(by='value', inplace=True)"
   ],
   "outputs": [],
   "metadata": {}
  },
  {
   "cell_type": "code",
   "execution_count": 6,
   "source": [
    "egypt = gpd.read_file('/Users/maurya/Documents/git/unhcr_notes/resources/files_resources/chp_05/egypt-map/OCHA_HDX/egy_admbnda_adm1_capmas_20170421.zip')\n",
    "egypt['x'] = egypt.geometry.centroid.map(lambda p: p.x)\n",
    "egypt['y'] = egypt.geometry.centroid.map(lambda p: p.y)\n",
    "egypt.head()"
   ],
   "outputs": [
    {
     "output_type": "stream",
     "name": "stderr",
     "text": [
      "<ipython-input-6-e7386dab4c13>:2: UserWarning: Geometry is in a geographic CRS. Results from 'centroid' are likely incorrect. Use 'GeoSeries.to_crs()' to re-project geometries to a projected CRS before this operation.\n",
      "\n",
      "<ipython-input-6-e7386dab4c13>:3: UserWarning: Geometry is in a geographic CRS. Results from 'centroid' are likely incorrect. Use 'GeoSeries.to_crs()' to re-project geometries to a projected CRS before this operation.\n",
      "\n"
     ]
    },
    {
     "output_type": "execute_result",
     "data": {
      "text/plain": [
       "      ADM1_EN       ADM1_AR ADM1_PCODE    ADM1_REF ADM1ALT1EN ADM1ALT2EN  \\\n",
       "0  Alexandria  الاسكندرية\\n       EG02  Alexandria       None       None   \n",
       "1      Assiut         أسيوط       EG25      Assiut       None       None   \n",
       "2       Aswan         أسوان       EG28       Aswan       None       None   \n",
       "3      Behera     البحيرة\\n       EG18      Behera       None       None   \n",
       "4   Beni Suef    بنى سويف\\n       EG22   Beni Suef       None       None   \n",
       "\n",
       "  ADM1ALT1AR ADM1ALT2AR ADM0_EN ADM0_AR ADM0_PCODE        date     validOn  \\\n",
       "0       None       None   Egypt    مِصر         EG  2006-01-01  2017-04-21   \n",
       "1       None       None   Egypt    مِصر         EG  2006-01-01  2017-04-21   \n",
       "2       None       None   Egypt    مِصر         EG  2006-01-01  2017-04-21   \n",
       "3       None       None   Egypt    مِصر         EG  2006-01-01  2017-04-21   \n",
       "4       None       None   Egypt    مِصر         EG  2006-01-01  2017-04-21   \n",
       "\n",
       "  validTo  Shape_Leng  Shape_Area  \\\n",
       "0    None    4.266566    0.236661   \n",
       "1    None    8.004909    1.498030   \n",
       "2    None   38.126683    5.102297   \n",
       "3    None    6.508432    1.067535   \n",
       "4    None    7.437239    0.981067   \n",
       "\n",
       "                                            geometry          x          y  \n",
       "0  POLYGON ((30.08063 31.33118, 30.08057 31.33114...  29.742685  30.839254  \n",
       "1  MULTIPOLYGON (((30.75499 27.61106, 30.75618 27...  31.640027  27.336319  \n",
       "2  MULTIPOLYGON (((32.87266 24.17076, 32.87238 24...  32.606343  23.375578  \n",
       "3  POLYGON ((30.39156 31.44026, 30.39281 31.44023...  30.276428  30.623967  \n",
       "4  MULTIPOLYGON (((30.96379 28.89630, 30.96116 28...  31.076521  28.817886  "
      ],
      "text/html": [
       "<div>\n",
       "<style scoped>\n",
       "    .dataframe tbody tr th:only-of-type {\n",
       "        vertical-align: middle;\n",
       "    }\n",
       "\n",
       "    .dataframe tbody tr th {\n",
       "        vertical-align: top;\n",
       "    }\n",
       "\n",
       "    .dataframe thead th {\n",
       "        text-align: right;\n",
       "    }\n",
       "</style>\n",
       "<table border=\"1\" class=\"dataframe\">\n",
       "  <thead>\n",
       "    <tr style=\"text-align: right;\">\n",
       "      <th></th>\n",
       "      <th>ADM1_EN</th>\n",
       "      <th>ADM1_AR</th>\n",
       "      <th>ADM1_PCODE</th>\n",
       "      <th>ADM1_REF</th>\n",
       "      <th>ADM1ALT1EN</th>\n",
       "      <th>ADM1ALT2EN</th>\n",
       "      <th>ADM1ALT1AR</th>\n",
       "      <th>ADM1ALT2AR</th>\n",
       "      <th>ADM0_EN</th>\n",
       "      <th>ADM0_AR</th>\n",
       "      <th>ADM0_PCODE</th>\n",
       "      <th>date</th>\n",
       "      <th>validOn</th>\n",
       "      <th>validTo</th>\n",
       "      <th>Shape_Leng</th>\n",
       "      <th>Shape_Area</th>\n",
       "      <th>geometry</th>\n",
       "      <th>x</th>\n",
       "      <th>y</th>\n",
       "    </tr>\n",
       "  </thead>\n",
       "  <tbody>\n",
       "    <tr>\n",
       "      <th>0</th>\n",
       "      <td>Alexandria</td>\n",
       "      <td>الاسكندرية\\n</td>\n",
       "      <td>EG02</td>\n",
       "      <td>Alexandria</td>\n",
       "      <td>None</td>\n",
       "      <td>None</td>\n",
       "      <td>None</td>\n",
       "      <td>None</td>\n",
       "      <td>Egypt</td>\n",
       "      <td>مِصر</td>\n",
       "      <td>EG</td>\n",
       "      <td>2006-01-01</td>\n",
       "      <td>2017-04-21</td>\n",
       "      <td>None</td>\n",
       "      <td>4.266566</td>\n",
       "      <td>0.236661</td>\n",
       "      <td>POLYGON ((30.08063 31.33118, 30.08057 31.33114...</td>\n",
       "      <td>29.742685</td>\n",
       "      <td>30.839254</td>\n",
       "    </tr>\n",
       "    <tr>\n",
       "      <th>1</th>\n",
       "      <td>Assiut</td>\n",
       "      <td>أسيوط</td>\n",
       "      <td>EG25</td>\n",
       "      <td>Assiut</td>\n",
       "      <td>None</td>\n",
       "      <td>None</td>\n",
       "      <td>None</td>\n",
       "      <td>None</td>\n",
       "      <td>Egypt</td>\n",
       "      <td>مِصر</td>\n",
       "      <td>EG</td>\n",
       "      <td>2006-01-01</td>\n",
       "      <td>2017-04-21</td>\n",
       "      <td>None</td>\n",
       "      <td>8.004909</td>\n",
       "      <td>1.498030</td>\n",
       "      <td>MULTIPOLYGON (((30.75499 27.61106, 30.75618 27...</td>\n",
       "      <td>31.640027</td>\n",
       "      <td>27.336319</td>\n",
       "    </tr>\n",
       "    <tr>\n",
       "      <th>2</th>\n",
       "      <td>Aswan</td>\n",
       "      <td>أسوان</td>\n",
       "      <td>EG28</td>\n",
       "      <td>Aswan</td>\n",
       "      <td>None</td>\n",
       "      <td>None</td>\n",
       "      <td>None</td>\n",
       "      <td>None</td>\n",
       "      <td>Egypt</td>\n",
       "      <td>مِصر</td>\n",
       "      <td>EG</td>\n",
       "      <td>2006-01-01</td>\n",
       "      <td>2017-04-21</td>\n",
       "      <td>None</td>\n",
       "      <td>38.126683</td>\n",
       "      <td>5.102297</td>\n",
       "      <td>MULTIPOLYGON (((32.87266 24.17076, 32.87238 24...</td>\n",
       "      <td>32.606343</td>\n",
       "      <td>23.375578</td>\n",
       "    </tr>\n",
       "    <tr>\n",
       "      <th>3</th>\n",
       "      <td>Behera</td>\n",
       "      <td>البحيرة\\n</td>\n",
       "      <td>EG18</td>\n",
       "      <td>Behera</td>\n",
       "      <td>None</td>\n",
       "      <td>None</td>\n",
       "      <td>None</td>\n",
       "      <td>None</td>\n",
       "      <td>Egypt</td>\n",
       "      <td>مِصر</td>\n",
       "      <td>EG</td>\n",
       "      <td>2006-01-01</td>\n",
       "      <td>2017-04-21</td>\n",
       "      <td>None</td>\n",
       "      <td>6.508432</td>\n",
       "      <td>1.067535</td>\n",
       "      <td>POLYGON ((30.39156 31.44026, 30.39281 31.44023...</td>\n",
       "      <td>30.276428</td>\n",
       "      <td>30.623967</td>\n",
       "    </tr>\n",
       "    <tr>\n",
       "      <th>4</th>\n",
       "      <td>Beni Suef</td>\n",
       "      <td>بنى سويف\\n</td>\n",
       "      <td>EG22</td>\n",
       "      <td>Beni Suef</td>\n",
       "      <td>None</td>\n",
       "      <td>None</td>\n",
       "      <td>None</td>\n",
       "      <td>None</td>\n",
       "      <td>Egypt</td>\n",
       "      <td>مِصر</td>\n",
       "      <td>EG</td>\n",
       "      <td>2006-01-01</td>\n",
       "      <td>2017-04-21</td>\n",
       "      <td>None</td>\n",
       "      <td>7.437239</td>\n",
       "      <td>0.981067</td>\n",
       "      <td>MULTIPOLYGON (((30.96379 28.89630, 30.96116 28...</td>\n",
       "      <td>31.076521</td>\n",
       "      <td>28.817886</td>\n",
       "    </tr>\n",
       "  </tbody>\n",
       "</table>\n",
       "</div>"
      ]
     },
     "metadata": {},
     "execution_count": 6
    }
   ],
   "metadata": {}
  },
  {
   "cell_type": "code",
   "execution_count": 7,
   "source": [
    "(\n",
    "ggplot(schools_reshp, \n",
    "       aes(x='Lng', y='Lat', size='value', color='measure')) \n",
    "        + geom_point(alpha=.8)\n",
    "        + scale_size_radius([.2,10], guide=False)\n",
    "        +theme_void()\n",
    "        + theme(legend_position=None)\n",
    "    \n",
    "    \n",
    ")"
   ],
   "outputs": [
    {
     "output_type": "display_data",
     "data": {
      "text/plain": [
       "<Figure size 640x480 with 1 Axes>"
      ],
      "image/png": "[encoded data removed]"
     },
     "metadata": {}
    },
    {
     "output_type": "execute_result",
     "data": {
      "text/plain": [
       "<ggplot: (319487997)>"
      ]
     },
     "metadata": {},
     "execution_count": 7
    }
   ],
   "metadata": {}
  },
  {
   "cell_type": "code",
   "execution_count": 8,
   "source": [
    "(ggplot() \n",
    " + geom_map(egypt, fill=None) + theme_void()\n",
    " + geom_point(schools_reshp, aes(x='Lng', y='Lat', size='value', color='measure'))\n",
    " + geom_text(\n",
    "     egypt,\n",
    "     aes('x', 'y', label='ADM1_EN'),\n",
    "     size=5,\n",
    "     #fontweight='bold'\n",
    " )\n",
    ")"
   ],
   "outputs": [
    {
     "output_type": "display_data",
     "data": {
      "text/plain": [
       "<Figure size 640x480 with 1 Axes>"
      ],
      "image/png": "[encoded data removed]"
     },
     "metadata": {}
    },
    {
     "output_type": "execute_result",
     "data": {
      "text/plain": [
       "<ggplot: (319265175)>"
      ]
     },
     "metadata": {},
     "execution_count": 8
    }
   ],
   "metadata": {}
  }
 ],
 "metadata": {
  "kernelspec": {
   "display_name": "python38",
   "language": "python",
   "name": "python38"
  },
  "language_info": {
   "codemirror_mode": {
    "name": "ipython",
    "version": 3
   },
   "file_extension": ".py",
   "mimetype": "text/x-python",
   "name": "python",
   "nbconvert_exporter": "python",
   "pygments_lexer": "ipython3",
   "version": "3.8.7"
  }
 },
 "nbformat": 4,
 "nbformat_minor": 5
}