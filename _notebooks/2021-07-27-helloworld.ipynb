{
 "cells": [
  {
   "cell_type": "markdown",
   "source": [
    "# hello world, Fastpages - setup done!\n",
    "\n",
    "> Say goodbye broken links on your static sites.  Platform independent, fast, and built in python.\n",
    "- author: \"<a href='https://twitter.com/rvibek'>Vibek Raj Maurya</a>\"\n",
    "- toc: false\n",
    "- image: images/copied_from_nb/fastlinkcheck_images/fastlinkcheck.png\n",
    "- comments: true\n",
    "- categories: [fastpages, hello world]\n",
    "- permalink: / hello-world/\n",
    "- badges: true\n"
   ],
   "metadata": {}
  },
  {
   "cell_type": "markdown",
   "source": [],
   "metadata": {}
  },
  {
   "cell_type": "markdown",
   "source": [
    "# Curabitur porta senectus \n",
    "Nibh proin eleifend odio integer venenatis vestibulum amet consequat mollis pharetra tempus, adipiscing massa accumsan eget quis imperdiet malesuada nunc lacus cubilia vitae tincidunt mauris. Molestie vel tellus in rhoncus elit torquent lobortis, dictum senectus tempor fringilla curabitur malesuada, nullam vehicula himenaeos convallis sociosqu gravida. Placerat fermentum class feugiat massa nulla iaculis habitasse congue, praesent vehicula varius velit etiam ultricies malesuada sit curae, in cum mauris eros risus adipiscing duis.\n"
   ],
   "metadata": {}
  },
  {
   "cell_type": "code",
   "execution_count": null,
   "source": [],
   "outputs": [],
   "metadata": {}
  }
 ],
 "metadata": {
  "orig_nbformat": 4,
  "language_info": {
   "name": "python"
  }
 },
 "nbformat": 4,
 "nbformat_minor": 2
}